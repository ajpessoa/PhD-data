{
 "cells": [
  {
   "cell_type": "markdown",
   "metadata": {},
   "source": [
    "# Data Report"
   ]
  },
  {
   "cell_type": "markdown",
   "metadata": {},
   "source": [
    "### Video\n",
    "(The 360º video was exported as two 150º videos, containing half the room each. \n",
    "Folders video1 and video 2 contain the data related to each of the two videos.)\n",
    "\n",
    "output_video1.csv contains FER data from video1\\\n",
    "output_video2.csv contains FER data from video2\n"
   ]
  },
  {
   "cell_type": "code",
   "execution_count": 3,
   "metadata": {},
   "outputs": [],
   "source": [
    "import pandas as pd\n",
    "\n",
    "video_file1 = 'output_video1.csv'\n",
    "video_file2 = 'output_video2.csv'\n",
    "df1 = pd.read_csv(video_file1)\n",
    "df2 = pd.read_csv(video_file2)\n"
   ]
  },
  {
   "cell_type": "markdown",
   "metadata": {},
   "source": [
    "Total Emotion Count"
   ]
  },
  {
   "cell_type": "code",
   "execution_count": 7,
   "metadata": {},
   "outputs": [
    {
     "name": "stdout",
     "output_type": "stream",
     "text": [
      "Emotion\n",
      "Angry       28295\n",
      "Disgust     52440\n",
      "Fear        49490\n",
      "Happy       48244\n",
      "Neutral     38759\n",
      "Sad         71943\n",
      "Surprise    90933\n",
      "Name: count, dtype: int64\n"
     ]
    }
   ],
   "source": [
    "emotion_counts1 = df1['Emotion'].value_counts()\n",
    "emotion_counts2 = df2['Emotion'].value_counts()\n",
    "\n",
    "total = emotion_counts1.add(emotion_counts2, fill_value=0)\n",
    "print(total)"
   ]
  },
  {
   "cell_type": "markdown",
   "metadata": {},
   "source": [
    "#### Text \n",
    "text_output.txt contains the transcription of all the speech"
   ]
  },
  {
   "cell_type": "code",
   "execution_count": 9,
   "metadata": {},
   "outputs": [],
   "source": [
    "from collections import Counter\n",
    "import re\n",
    "\n",
    "with open('text_output.txt', 'r', encoding='utf-8') as file:\n",
    "    lines = file.readlines()\n"
   ]
  },
  {
   "cell_type": "markdown",
   "metadata": {},
   "source": [
    "Average Sentence Length"
   ]
  },
  {
   "cell_type": "code",
   "execution_count": 10,
   "metadata": {},
   "outputs": [
    {
     "name": "stdout",
     "output_type": "stream",
     "text": [
      "Average sentence length: 6.96 words\n"
     ]
    }
   ],
   "source": [
    "total_sentences = len(lines)\n",
    "total_words = 0\n",
    "word_counter = Counter()\n",
    "\n",
    "for line in lines:\n",
    "    line = line.strip()\n",
    "    words = re.findall(r'\\b\\w+\\b', line.lower())\n",
    "    total_words += len(words)\n",
    "    word_counter.update(words)\n",
    "\n",
    "\n",
    "average_sentence_length = total_words / total_sentences if total_sentences else 0\n",
    "print(f\"Average sentence length: {average_sentence_length:.2f} words\")\n"
   ]
  },
  {
   "cell_type": "markdown",
   "metadata": {},
   "source": [
    "Total Sentences and Words"
   ]
  },
  {
   "cell_type": "code",
   "execution_count": 12,
   "metadata": {},
   "outputs": [
    {
     "name": "stdout",
     "output_type": "stream",
     "text": [
      "Total number of sentences: 1149\n",
      "Total number of words: 8000\n"
     ]
    }
   ],
   "source": [
    "print(f\"Total number of sentences: {total_sentences}\")\n",
    "print(f\"Total number of words: {total_words}\")"
   ]
  },
  {
   "cell_type": "markdown",
   "metadata": {},
   "source": [
    "Unique Words"
   ]
  },
  {
   "cell_type": "code",
   "execution_count": 15,
   "metadata": {},
   "outputs": [
    {
     "name": "stdout",
     "output_type": "stream",
     "text": [
      "Number of unique words: 1100\n"
     ]
    }
   ],
   "source": [
    "unique_words = len(word_counter)\n",
    "print(f\"Number of unique words: {unique_words}\")"
   ]
  },
  {
   "cell_type": "markdown",
   "metadata": {},
   "source": [
    "Most Common Words"
   ]
  },
  {
   "cell_type": "code",
   "execution_count": 13,
   "metadata": {},
   "outputs": [
    {
     "name": "stdout",
     "output_type": "stream",
     "text": [
      "Number of unique words: 1100\n",
      "Most common words:\n",
      "you: 432\n",
      "the: 305\n",
      "i: 242\n",
      "so: 226\n",
      "to: 212\n",
      "it: 198\n",
      "s: 175\n",
      "a: 171\n",
      "and: 169\n",
      "that: 158\n"
     ]
    }
   ],
   "source": [
    "most_common_words = word_counter.most_common(10)\n",
    "print(\"Most common words:\")\n",
    "for word, count in most_common_words:\n",
    "    print(f\"{word}: {count}\")"
   ]
  },
  {
   "cell_type": "markdown",
   "metadata": {},
   "source": [
    "#### Labels\n",
    "labels.csv contains the annotated data from the experiment"
   ]
  },
  {
   "cell_type": "code",
   "execution_count": 18,
   "metadata": {},
   "outputs": [
    {
     "data": {
      "text/html": [
       "<div>\n",
       "<style scoped>\n",
       "    .dataframe tbody tr th:only-of-type {\n",
       "        vertical-align: middle;\n",
       "    }\n",
       "\n",
       "    .dataframe tbody tr th {\n",
       "        vertical-align: top;\n",
       "    }\n",
       "\n",
       "    .dataframe thead th {\n",
       "        text-align: right;\n",
       "    }\n",
       "</style>\n",
       "<table border=\"1\" class=\"dataframe\">\n",
       "  <thead>\n",
       "    <tr style=\"text-align: right;\">\n",
       "      <th></th>\n",
       "      <th>timestamp</th>\n",
       "      <th>label</th>\n",
       "    </tr>\n",
       "  </thead>\n",
       "  <tbody>\n",
       "    <tr>\n",
       "      <th>0</th>\n",
       "      <td>64144.230985</td>\n",
       "      <td>Session Started</td>\n",
       "    </tr>\n",
       "    <tr>\n",
       "      <th>1</th>\n",
       "      <td>64162.648001</td>\n",
       "      <td>Exposition</td>\n",
       "    </tr>\n",
       "    <tr>\n",
       "      <th>2</th>\n",
       "      <td>64294.927295</td>\n",
       "      <td>Discussion</td>\n",
       "    </tr>\n",
       "    <tr>\n",
       "      <th>3</th>\n",
       "      <td>64617.311922</td>\n",
       "      <td>Exposition</td>\n",
       "    </tr>\n",
       "    <tr>\n",
       "      <th>4</th>\n",
       "      <td>64655.609163</td>\n",
       "      <td>Discussion</td>\n",
       "    </tr>\n",
       "    <tr>\n",
       "      <th>5</th>\n",
       "      <td>64730.305357</td>\n",
       "      <td>Exposition</td>\n",
       "    </tr>\n",
       "    <tr>\n",
       "      <th>6</th>\n",
       "      <td>64879.644655</td>\n",
       "      <td>Exploration</td>\n",
       "    </tr>\n",
       "    <tr>\n",
       "      <th>7</th>\n",
       "      <td>64899.649972</td>\n",
       "      <td>Exposition</td>\n",
       "    </tr>\n",
       "    <tr>\n",
       "      <th>8</th>\n",
       "      <td>64942.053825</td>\n",
       "      <td>Discussion</td>\n",
       "    </tr>\n",
       "    <tr>\n",
       "      <th>9</th>\n",
       "      <td>64965.106910</td>\n",
       "      <td>Exploration</td>\n",
       "    </tr>\n",
       "    <tr>\n",
       "      <th>10</th>\n",
       "      <td>65206.924711</td>\n",
       "      <td>Exposition</td>\n",
       "    </tr>\n",
       "    <tr>\n",
       "      <th>11</th>\n",
       "      <td>65250.560061</td>\n",
       "      <td>Combat</td>\n",
       "    </tr>\n",
       "    <tr>\n",
       "      <th>12</th>\n",
       "      <td>66788.022430</td>\n",
       "      <td>Exposition</td>\n",
       "    </tr>\n",
       "    <tr>\n",
       "      <th>13</th>\n",
       "      <td>66808.163921</td>\n",
       "      <td>Discussion</td>\n",
       "    </tr>\n",
       "    <tr>\n",
       "      <th>14</th>\n",
       "      <td>66848.175374</td>\n",
       "      <td>Exploration</td>\n",
       "    </tr>\n",
       "    <tr>\n",
       "      <th>15</th>\n",
       "      <td>66851.112514</td>\n",
       "      <td>Exposition</td>\n",
       "    </tr>\n",
       "    <tr>\n",
       "      <th>16</th>\n",
       "      <td>66872.962527</td>\n",
       "      <td>Exploration</td>\n",
       "    </tr>\n",
       "    <tr>\n",
       "      <th>17</th>\n",
       "      <td>66985.675327</td>\n",
       "      <td>Exposition</td>\n",
       "    </tr>\n",
       "    <tr>\n",
       "      <th>18</th>\n",
       "      <td>67035.575684</td>\n",
       "      <td>Exploration</td>\n",
       "    </tr>\n",
       "    <tr>\n",
       "      <th>19</th>\n",
       "      <td>67405.149988</td>\n",
       "      <td>Exposition</td>\n",
       "    </tr>\n",
       "    <tr>\n",
       "      <th>20</th>\n",
       "      <td>67650.890641</td>\n",
       "      <td>Exposition</td>\n",
       "    </tr>\n",
       "    <tr>\n",
       "      <th>21</th>\n",
       "      <td>67696.458570</td>\n",
       "      <td>Exposition</td>\n",
       "    </tr>\n",
       "    <tr>\n",
       "      <th>22</th>\n",
       "      <td>67806.197536</td>\n",
       "      <td>Exploration</td>\n",
       "    </tr>\n",
       "    <tr>\n",
       "      <th>23</th>\n",
       "      <td>67845.106058</td>\n",
       "      <td>Exposition</td>\n",
       "    </tr>\n",
       "    <tr>\n",
       "      <th>24</th>\n",
       "      <td>67889.610922</td>\n",
       "      <td>Discussion</td>\n",
       "    </tr>\n",
       "    <tr>\n",
       "      <th>25</th>\n",
       "      <td>68118.986842</td>\n",
       "      <td>Session Started</td>\n",
       "    </tr>\n",
       "  </tbody>\n",
       "</table>\n",
       "</div>"
      ],
      "text/plain": [
       "       timestamp             label\n",
       "0   64144.230985   Session Started\n",
       "1   64162.648001        Exposition\n",
       "2   64294.927295        Discussion\n",
       "3   64617.311922        Exposition\n",
       "4   64655.609163        Discussion\n",
       "5   64730.305357        Exposition\n",
       "6   64879.644655       Exploration\n",
       "7   64899.649972        Exposition\n",
       "8   64942.053825        Discussion\n",
       "9   64965.106910       Exploration\n",
       "10  65206.924711        Exposition\n",
       "11  65250.560061            Combat\n",
       "12  66788.022430        Exposition\n",
       "13  66808.163921        Discussion\n",
       "14  66848.175374       Exploration\n",
       "15  66851.112514        Exposition\n",
       "16  66872.962527       Exploration\n",
       "17  66985.675327        Exposition\n",
       "18  67035.575684       Exploration\n",
       "19  67405.149988        Exposition\n",
       "20  67650.890641        Exposition\n",
       "21  67696.458570        Exposition\n",
       "22  67806.197536       Exploration\n",
       "23  67845.106058        Exposition\n",
       "24  67889.610922        Discussion\n",
       "25  68118.986842   Session Started"
      ]
     },
     "metadata": {},
     "output_type": "display_data"
    }
   ],
   "source": [
    "label_file = 'labels.csv'\n",
    "df = pd.read_csv(label_file)\n",
    "\n",
    "display(df)"
   ]
  },
  {
   "cell_type": "markdown",
   "metadata": {},
   "source": [
    "## Basic Statistics"
   ]
  },
  {
   "cell_type": "code",
   "execution_count": 19,
   "metadata": {},
   "outputs": [
    {
     "data": {
      "text/html": [
       "<div>\n",
       "<style scoped>\n",
       "    .dataframe tbody tr th:only-of-type {\n",
       "        vertical-align: middle;\n",
       "    }\n",
       "\n",
       "    .dataframe tbody tr th {\n",
       "        vertical-align: top;\n",
       "    }\n",
       "\n",
       "    .dataframe thead th {\n",
       "        text-align: right;\n",
       "    }\n",
       "</style>\n",
       "<table border=\"1\" class=\"dataframe\">\n",
       "  <thead>\n",
       "    <tr style=\"text-align: right;\">\n",
       "      <th></th>\n",
       "      <th>Frame Number</th>\n",
       "      <th>X</th>\n",
       "      <th>Y</th>\n",
       "      <th>Width</th>\n",
       "      <th>Height</th>\n",
       "      <th>Emotion</th>\n",
       "    </tr>\n",
       "  </thead>\n",
       "  <tbody>\n",
       "    <tr>\n",
       "      <th>0</th>\n",
       "      <td>1.0</td>\n",
       "      <td>844</td>\n",
       "      <td>366</td>\n",
       "      <td>86</td>\n",
       "      <td>86</td>\n",
       "      <td>Angry</td>\n",
       "    </tr>\n",
       "    <tr>\n",
       "      <th>1</th>\n",
       "      <td>1.0</td>\n",
       "      <td>892</td>\n",
       "      <td>371</td>\n",
       "      <td>89</td>\n",
       "      <td>89</td>\n",
       "      <td>Fear</td>\n",
       "    </tr>\n",
       "    <tr>\n",
       "      <th>2</th>\n",
       "      <td>1.0</td>\n",
       "      <td>341</td>\n",
       "      <td>294</td>\n",
       "      <td>141</td>\n",
       "      <td>141</td>\n",
       "      <td>Sad</td>\n",
       "    </tr>\n",
       "    <tr>\n",
       "      <th>3</th>\n",
       "      <td>1.0</td>\n",
       "      <td>1594</td>\n",
       "      <td>382</td>\n",
       "      <td>103</td>\n",
       "      <td>103</td>\n",
       "      <td>Happy</td>\n",
       "    </tr>\n",
       "    <tr>\n",
       "      <th>4</th>\n",
       "      <td>1.0</td>\n",
       "      <td>741</td>\n",
       "      <td>268</td>\n",
       "      <td>128</td>\n",
       "      <td>128</td>\n",
       "      <td>Fear</td>\n",
       "    </tr>\n",
       "  </tbody>\n",
       "</table>\n",
       "</div>"
      ],
      "text/plain": [
       "   Frame Number     X    Y  Width  Height Emotion\n",
       "0           1.0   844  366     86      86   Angry\n",
       "1           1.0   892  371     89      89    Fear\n",
       "2           1.0   341  294    141     141     Sad\n",
       "3           1.0  1594  382    103     103   Happy\n",
       "4           1.0   741  268    128     128    Fear"
      ]
     },
     "execution_count": 19,
     "metadata": {},
     "output_type": "execute_result"
    }
   ],
   "source": [
    "import matplotlib.pyplot as plt\n",
    "import matplotlib.patches as patches\n",
    "import seaborn as sns\n",
    "\n",
    "csv_file = 'outputVideos.csv'\n",
    "df = pd.read_csv(csv_file)\n",
    "\n",
    "df.head()"
   ]
  },
  {
   "cell_type": "markdown",
   "metadata": {},
   "source": [
    "Percentage of emotions"
   ]
  },
  {
   "cell_type": "code",
   "execution_count": 21,
   "metadata": {},
   "outputs": [
    {
     "data": {
      "text/html": [
       "<div>\n",
       "<style scoped>\n",
       "    .dataframe tbody tr th:only-of-type {\n",
       "        vertical-align: middle;\n",
       "    }\n",
       "\n",
       "    .dataframe tbody tr th {\n",
       "        vertical-align: top;\n",
       "    }\n",
       "\n",
       "    .dataframe thead th {\n",
       "        text-align: right;\n",
       "    }\n",
       "</style>\n",
       "<table border=\"1\" class=\"dataframe\">\n",
       "  <thead>\n",
       "    <tr style=\"text-align: right;\">\n",
       "      <th></th>\n",
       "      <th>Percentage</th>\n",
       "    </tr>\n",
       "    <tr>\n",
       "      <th>Emotion</th>\n",
       "      <th></th>\n",
       "    </tr>\n",
       "  </thead>\n",
       "  <tbody>\n",
       "    <tr>\n",
       "      <th>Surprise</th>\n",
       "      <td>23.923189</td>\n",
       "    </tr>\n",
       "    <tr>\n",
       "      <th>Sad</th>\n",
       "      <td>18.927188</td>\n",
       "    </tr>\n",
       "    <tr>\n",
       "      <th>Disgust</th>\n",
       "      <td>13.796224</td>\n",
       "    </tr>\n",
       "    <tr>\n",
       "      <th>Fear</th>\n",
       "      <td>13.020121</td>\n",
       "    </tr>\n",
       "    <tr>\n",
       "      <th>Happy</th>\n",
       "      <td>12.692316</td>\n",
       "    </tr>\n",
       "    <tr>\n",
       "      <th>Neutral</th>\n",
       "      <td>10.196946</td>\n",
       "    </tr>\n",
       "    <tr>\n",
       "      <th>Angry</th>\n",
       "      <td>7.444015</td>\n",
       "    </tr>\n",
       "  </tbody>\n",
       "</table>\n",
       "</div>"
      ],
      "text/plain": [
       "          Percentage\n",
       "Emotion             \n",
       "Surprise   23.923189\n",
       "Sad        18.927188\n",
       "Disgust    13.796224\n",
       "Fear       13.020121\n",
       "Happy      12.692316\n",
       "Neutral    10.196946\n",
       "Angry       7.444015"
      ]
     },
     "metadata": {},
     "output_type": "display_data"
    }
   ],
   "source": [
    "emotion_percentages = df['Emotion'].value_counts(normalize=True) * 100\n",
    "emotion_stats = pd.DataFrame({'Percentage': emotion_percentages})\n",
    "\n",
    "display(emotion_stats)"
   ]
  },
  {
   "cell_type": "markdown",
   "metadata": {},
   "source": [
    "Emotion Averages"
   ]
  },
  {
   "cell_type": "code",
   "execution_count": 22,
   "metadata": {},
   "outputs": [
    {
     "data": {
      "text/html": [
       "<div>\n",
       "<style scoped>\n",
       "    .dataframe tbody tr th:only-of-type {\n",
       "        vertical-align: middle;\n",
       "    }\n",
       "\n",
       "    .dataframe tbody tr th {\n",
       "        vertical-align: top;\n",
       "    }\n",
       "\n",
       "    .dataframe thead th {\n",
       "        text-align: right;\n",
       "    }\n",
       "</style>\n",
       "<table border=\"1\" class=\"dataframe\">\n",
       "  <thead>\n",
       "    <tr style=\"text-align: right;\">\n",
       "      <th></th>\n",
       "      <th>mean</th>\n",
       "      <th>median</th>\n",
       "      <th>mode</th>\n",
       "    </tr>\n",
       "    <tr>\n",
       "      <th>Emotion</th>\n",
       "      <th></th>\n",
       "      <th></th>\n",
       "      <th></th>\n",
       "    </tr>\n",
       "  </thead>\n",
       "  <tbody>\n",
       "    <tr>\n",
       "      <th>Angry</th>\n",
       "      <td>27183.530341</td>\n",
       "      <td>28496.0</td>\n",
       "      <td>1505.0</td>\n",
       "    </tr>\n",
       "    <tr>\n",
       "      <th>Disgust</th>\n",
       "      <td>24080.964703</td>\n",
       "      <td>22972.5</td>\n",
       "      <td>385.0</td>\n",
       "    </tr>\n",
       "    <tr>\n",
       "      <th>Fear</th>\n",
       "      <td>24322.428652</td>\n",
       "      <td>24005.0</td>\n",
       "      <td>2914.0</td>\n",
       "    </tr>\n",
       "    <tr>\n",
       "      <th>Happy</th>\n",
       "      <td>22441.534015</td>\n",
       "      <td>18510.5</td>\n",
       "      <td>4221.0</td>\n",
       "    </tr>\n",
       "    <tr>\n",
       "      <th>Neutral</th>\n",
       "      <td>25158.714389</td>\n",
       "      <td>26326.0</td>\n",
       "      <td>13676.0</td>\n",
       "    </tr>\n",
       "    <tr>\n",
       "      <th>Sad</th>\n",
       "      <td>21684.656965</td>\n",
       "      <td>17570.0</td>\n",
       "      <td>13088.0</td>\n",
       "    </tr>\n",
       "    <tr>\n",
       "      <th>Surprise</th>\n",
       "      <td>23318.964798</td>\n",
       "      <td>21734.0</td>\n",
       "      <td>4619.0</td>\n",
       "    </tr>\n",
       "  </tbody>\n",
       "</table>\n",
       "</div>"
      ],
      "text/plain": [
       "                  mean   median     mode\n",
       "Emotion                                 \n",
       "Angry     27183.530341  28496.0   1505.0\n",
       "Disgust   24080.964703  22972.5    385.0\n",
       "Fear      24322.428652  24005.0   2914.0\n",
       "Happy     22441.534015  18510.5   4221.0\n",
       "Neutral   25158.714389  26326.0  13676.0\n",
       "Sad       21684.656965  17570.0  13088.0\n",
       "Surprise  23318.964798  21734.0   4619.0"
      ]
     },
     "metadata": {},
     "output_type": "display_data"
    }
   ],
   "source": [
    "emotion_frame_stats = df.groupby('Emotion')['Frame Number'].agg(['mean', 'median'])\n",
    "emotion_modes = df.groupby('Emotion')['Frame Number'].apply(lambda x: x.mode().iloc[0] if not x.mode().empty else None)\n",
    "emotion_frame_stats['mode'] = emotion_modes\n",
    "\n",
    "display(emotion_frame_stats)"
   ]
  }
 ],
 "metadata": {
  "kernelspec": {
   "display_name": "Python 3",
   "language": "python",
   "name": "python3"
  },
  "language_info": {
   "codemirror_mode": {
    "name": "ipython",
    "version": 3
   },
   "file_extension": ".py",
   "mimetype": "text/x-python",
   "name": "python",
   "nbconvert_exporter": "python",
   "pygments_lexer": "ipython3",
   "version": "3.10.11"
  }
 },
 "nbformat": 4,
 "nbformat_minor": 2
}
